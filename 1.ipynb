{
 "cells": [
  {
   "cell_type": "code",
   "execution_count": 4,
   "metadata": {},
   "outputs": [
    {
     "name": "stdout",
     "output_type": "stream",
     "text": [
      "2.1.0\n"
     ]
    }
   ],
   "source": [
    "import tensorflow as tf\n",
    "from sklearn.datasets import load_breast_cancer\n",
    "print(tf.__version__)"
   ]
  },
  {
   "cell_type": "code",
   "execution_count": 15,
   "metadata": {},
   "outputs": [
    {
     "data": {
      "text/plain": [
       "(569, 30)"
      ]
     },
     "execution_count": 15,
     "metadata": {},
     "output_type": "execute_result"
    }
   ],
   "source": [
    "data = load_breast_cancer()\n",
    "data.data.shape\n"
   ]
  },
  {
   "cell_type": "code",
   "execution_count": 16,
   "metadata": {},
   "outputs": [
    {
     "data": {
      "text/plain": [
       "(569,)"
      ]
     },
     "execution_count": 16,
     "metadata": {},
     "output_type": "execute_result"
    }
   ],
   "source": [
    "data.target.shape"
   ]
  },
  {
   "cell_type": "code",
   "execution_count": 23,
   "metadata": {},
   "outputs": [],
   "source": [
    "\n",
    "from sklearn.model_selection import train_test_split\n",
    "\n",
    "X_train, X_test, y_train,y_test = train_test_split(data.data, data.target, test_size = 0.33)\n",
    "N, D = X_train.shape"
   ]
  },
  {
   "cell_type": "code",
   "execution_count": 24,
   "metadata": {},
   "outputs": [],
   "source": [
    "from sklearn.preprocessing import StandardScaler\n",
    "\n",
    "scaler = StandardScaler()\n",
    "X_train = scaler.fit_transform(X_train)\n",
    "X_test=scaler.transform(X_test)"
   ]
  },
  {
   "cell_type": "code",
   "execution_count": 33,
   "metadata": {},
   "outputs": [
    {
     "name": "stdout",
     "output_type": "stream",
     "text": [
      "Train on 381 samples, validate on 188 samples\n",
      "Epoch 1/100\n",
      "381/381 [==============================] - 0s 1ms/sample - loss: 1.6181 - accuracy: 0.1680 - val_loss: 1.4526 - val_accuracy: 0.1915\n",
      "Epoch 2/100\n",
      "381/381 [==============================] - 0s 110us/sample - loss: 1.4993 - accuracy: 0.1995 - val_loss: 1.3485 - val_accuracy: 0.2287\n",
      "Epoch 3/100\n",
      "381/381 [==============================] - 0s 107us/sample - loss: 1.3813 - accuracy: 0.2152 - val_loss: 1.2514 - val_accuracy: 0.2553\n",
      "Epoch 4/100\n",
      "381/381 [==============================] - 0s 102us/sample - loss: 1.2738 - accuracy: 0.2572 - val_loss: 1.1598 - val_accuracy: 0.3085\n",
      "Epoch 5/100\n",
      "381/381 [==============================] - 0s 107us/sample - loss: 1.1733 - accuracy: 0.2992 - val_loss: 1.0751 - val_accuracy: 0.3511\n",
      "Epoch 6/100\n",
      "381/381 [==============================] - 0s 113us/sample - loss: 1.0825 - accuracy: 0.3491 - val_loss: 0.9948 - val_accuracy: 0.3989\n",
      "Epoch 7/100\n",
      "381/381 [==============================] - 0s 126us/sample - loss: 0.9952 - accuracy: 0.3937 - val_loss: 0.9238 - val_accuracy: 0.4362\n",
      "Epoch 8/100\n",
      "381/381 [==============================] - 0s 97us/sample - loss: 0.9190 - accuracy: 0.4488 - val_loss: 0.8588 - val_accuracy: 0.5000\n",
      "Epoch 9/100\n",
      "381/381 [==============================] - 0s 97us/sample - loss: 0.8487 - accuracy: 0.4987 - val_loss: 0.7997 - val_accuracy: 0.5266\n",
      "Epoch 10/100\n",
      "381/381 [==============================] - 0s 97us/sample - loss: 0.7882 - accuracy: 0.5381 - val_loss: 0.7454 - val_accuracy: 0.5426\n",
      "Epoch 11/100\n",
      "381/381 [==============================] - 0s 97us/sample - loss: 0.7306 - accuracy: 0.5774 - val_loss: 0.6975 - val_accuracy: 0.5904\n",
      "Epoch 12/100\n",
      "381/381 [==============================] - 0s 97us/sample - loss: 0.6819 - accuracy: 0.6299 - val_loss: 0.6535 - val_accuracy: 0.6383\n",
      "Epoch 13/100\n",
      "381/381 [==============================] - 0s 97us/sample - loss: 0.6368 - accuracy: 0.6719 - val_loss: 0.6141 - val_accuracy: 0.6649\n",
      "Epoch 14/100\n",
      "381/381 [==============================] - 0s 97us/sample - loss: 0.5971 - accuracy: 0.6824 - val_loss: 0.5786 - val_accuracy: 0.6968\n",
      "Epoch 15/100\n",
      "381/381 [==============================] - 0s 102us/sample - loss: 0.5610 - accuracy: 0.7192 - val_loss: 0.5469 - val_accuracy: 0.7340\n",
      "Epoch 16/100\n",
      "381/381 [==============================] - 0s 97us/sample - loss: 0.5291 - accuracy: 0.7454 - val_loss: 0.5181 - val_accuracy: 0.7553\n",
      "Epoch 17/100\n",
      "381/381 [==============================] - 0s 97us/sample - loss: 0.5005 - accuracy: 0.7638 - val_loss: 0.4921 - val_accuracy: 0.7766\n",
      "Epoch 18/100\n",
      "381/381 [==============================] - 0s 99us/sample - loss: 0.4737 - accuracy: 0.7953 - val_loss: 0.4691 - val_accuracy: 0.7979\n",
      "Epoch 19/100\n",
      "381/381 [==============================] - 0s 99us/sample - loss: 0.4510 - accuracy: 0.8294 - val_loss: 0.4479 - val_accuracy: 0.8351\n",
      "Epoch 20/100\n",
      "381/381 [==============================] - 0s 97us/sample - loss: 0.4300 - accuracy: 0.8373 - val_loss: 0.4287 - val_accuracy: 0.8351\n",
      "Epoch 21/100\n",
      "381/381 [==============================] - 0s 97us/sample - loss: 0.4112 - accuracy: 0.8478 - val_loss: 0.4115 - val_accuracy: 0.8351\n",
      "Epoch 22/100\n",
      "381/381 [==============================] - 0s 99us/sample - loss: 0.3944 - accuracy: 0.8609 - val_loss: 0.3955 - val_accuracy: 0.8617\n",
      "Epoch 23/100\n",
      "381/381 [==============================] - 0s 94us/sample - loss: 0.3790 - accuracy: 0.8740 - val_loss: 0.3809 - val_accuracy: 0.8617\n",
      "Epoch 24/100\n",
      "381/381 [==============================] - 0s 97us/sample - loss: 0.3647 - accuracy: 0.8819 - val_loss: 0.3678 - val_accuracy: 0.8670\n",
      "Epoch 25/100\n",
      "381/381 [==============================] - 0s 97us/sample - loss: 0.3522 - accuracy: 0.8871 - val_loss: 0.3552 - val_accuracy: 0.8777\n",
      "Epoch 26/100\n",
      "381/381 [==============================] - 0s 97us/sample - loss: 0.3405 - accuracy: 0.8924 - val_loss: 0.3437 - val_accuracy: 0.8777\n",
      "Epoch 27/100\n",
      "381/381 [==============================] - 0s 99us/sample - loss: 0.3294 - accuracy: 0.9003 - val_loss: 0.3333 - val_accuracy: 0.8989\n",
      "Epoch 28/100\n",
      "381/381 [==============================] - 0s 97us/sample - loss: 0.3194 - accuracy: 0.9003 - val_loss: 0.3236 - val_accuracy: 0.8989\n",
      "Epoch 29/100\n",
      "381/381 [==============================] - 0s 102us/sample - loss: 0.3102 - accuracy: 0.9003 - val_loss: 0.3144 - val_accuracy: 0.8989\n",
      "Epoch 30/100\n",
      "381/381 [==============================] - 0s 94us/sample - loss: 0.3014 - accuracy: 0.9029 - val_loss: 0.3062 - val_accuracy: 0.9043\n",
      "Epoch 31/100\n",
      "381/381 [==============================] - 0s 97us/sample - loss: 0.2934 - accuracy: 0.9055 - val_loss: 0.2982 - val_accuracy: 0.9043\n",
      "Epoch 32/100\n",
      "381/381 [==============================] - 0s 99us/sample - loss: 0.2859 - accuracy: 0.9055 - val_loss: 0.2909 - val_accuracy: 0.9149\n",
      "Epoch 33/100\n",
      "381/381 [==============================] - 0s 97us/sample - loss: 0.2788 - accuracy: 0.9055 - val_loss: 0.2839 - val_accuracy: 0.9149\n",
      "Epoch 34/100\n",
      "381/381 [==============================] - 0s 94us/sample - loss: 0.2722 - accuracy: 0.9108 - val_loss: 0.2774 - val_accuracy: 0.9149\n",
      "Epoch 35/100\n",
      "381/381 [==============================] - 0s 97us/sample - loss: 0.2660 - accuracy: 0.9160 - val_loss: 0.2712 - val_accuracy: 0.9202\n",
      "Epoch 36/100\n",
      "381/381 [==============================] - 0s 99us/sample - loss: 0.2600 - accuracy: 0.9160 - val_loss: 0.2654 - val_accuracy: 0.9255\n",
      "Epoch 37/100\n",
      "381/381 [==============================] - 0s 102us/sample - loss: 0.2546 - accuracy: 0.9160 - val_loss: 0.2598 - val_accuracy: 0.9309\n",
      "Epoch 38/100\n",
      "381/381 [==============================] - 0s 99us/sample - loss: 0.2492 - accuracy: 0.9213 - val_loss: 0.2548 - val_accuracy: 0.9309\n",
      "Epoch 39/100\n",
      "381/381 [==============================] - 0s 94us/sample - loss: 0.2443 - accuracy: 0.9239 - val_loss: 0.2499 - val_accuracy: 0.9309\n",
      "Epoch 40/100\n",
      "381/381 [==============================] - 0s 97us/sample - loss: 0.2396 - accuracy: 0.9239 - val_loss: 0.2453 - val_accuracy: 0.9362\n",
      "Epoch 41/100\n",
      "381/381 [==============================] - 0s 102us/sample - loss: 0.2350 - accuracy: 0.9265 - val_loss: 0.2408 - val_accuracy: 0.9415\n",
      "Epoch 42/100\n",
      "381/381 [==============================] - 0s 102us/sample - loss: 0.2308 - accuracy: 0.9265 - val_loss: 0.2366 - val_accuracy: 0.9415\n",
      "Epoch 43/100\n",
      "381/381 [==============================] - 0s 110us/sample - loss: 0.2268 - accuracy: 0.9265 - val_loss: 0.2326 - val_accuracy: 0.9415\n",
      "Epoch 44/100\n",
      "381/381 [==============================] - 0s 99us/sample - loss: 0.2227 - accuracy: 0.9291 - val_loss: 0.2289 - val_accuracy: 0.9468\n",
      "Epoch 45/100\n",
      "381/381 [==============================] - 0s 97us/sample - loss: 0.2190 - accuracy: 0.9344 - val_loss: 0.2253 - val_accuracy: 0.9468\n",
      "Epoch 46/100\n",
      "381/381 [==============================] - 0s 97us/sample - loss: 0.2156 - accuracy: 0.9370 - val_loss: 0.2218 - val_accuracy: 0.9468\n",
      "Epoch 47/100\n",
      "381/381 [==============================] - 0s 94us/sample - loss: 0.2121 - accuracy: 0.9370 - val_loss: 0.2184 - val_accuracy: 0.9468\n",
      "Epoch 48/100\n",
      "381/381 [==============================] - 0s 99us/sample - loss: 0.2089 - accuracy: 0.9370 - val_loss: 0.2150 - val_accuracy: 0.9521\n",
      "Epoch 49/100\n",
      "381/381 [==============================] - 0s 97us/sample - loss: 0.2056 - accuracy: 0.9370 - val_loss: 0.2120 - val_accuracy: 0.9574\n",
      "Epoch 50/100\n",
      "381/381 [==============================] - 0s 94us/sample - loss: 0.2027 - accuracy: 0.9396 - val_loss: 0.2092 - val_accuracy: 0.9574\n",
      "Epoch 51/100\n",
      "381/381 [==============================] - 0s 99us/sample - loss: 0.1998 - accuracy: 0.9396 - val_loss: 0.2066 - val_accuracy: 0.9574\n",
      "Epoch 52/100\n",
      "381/381 [==============================] - 0s 102us/sample - loss: 0.1971 - accuracy: 0.9396 - val_loss: 0.2036 - val_accuracy: 0.9628\n",
      "Epoch 53/100\n",
      "381/381 [==============================] - 0s 99us/sample - loss: 0.1944 - accuracy: 0.9396 - val_loss: 0.2009 - val_accuracy: 0.9628\n",
      "Epoch 54/100\n",
      "381/381 [==============================] - 0s 105us/sample - loss: 0.1919 - accuracy: 0.9423 - val_loss: 0.1985 - val_accuracy: 0.9628\n",
      "Epoch 55/100\n",
      "381/381 [==============================] - 0s 102us/sample - loss: 0.1893 - accuracy: 0.9449 - val_loss: 0.1961 - val_accuracy: 0.9628\n",
      "Epoch 56/100\n",
      "381/381 [==============================] - 0s 97us/sample - loss: 0.1870 - accuracy: 0.9449 - val_loss: 0.1937 - val_accuracy: 0.9734\n",
      "Epoch 57/100\n",
      "381/381 [==============================] - 0s 107us/sample - loss: 0.1846 - accuracy: 0.9449 - val_loss: 0.1917 - val_accuracy: 0.9734\n",
      "Epoch 58/100\n",
      "381/381 [==============================] - 0s 97us/sample - loss: 0.1824 - accuracy: 0.9475 - val_loss: 0.1895 - val_accuracy: 0.9734\n",
      "Epoch 59/100\n",
      "381/381 [==============================] - 0s 94us/sample - loss: 0.1802 - accuracy: 0.9501 - val_loss: 0.1875 - val_accuracy: 0.9734\n",
      "Epoch 60/100\n",
      "381/381 [==============================] - 0s 99us/sample - loss: 0.1782 - accuracy: 0.9501 - val_loss: 0.1852 - val_accuracy: 0.9734\n",
      "Epoch 61/100\n",
      "381/381 [==============================] - 0s 99us/sample - loss: 0.1761 - accuracy: 0.9501 - val_loss: 0.1834 - val_accuracy: 0.9734\n",
      "Epoch 62/100\n",
      "381/381 [==============================] - 0s 99us/sample - loss: 0.1742 - accuracy: 0.9528 - val_loss: 0.1815 - val_accuracy: 0.9734\n",
      "Epoch 63/100\n",
      "381/381 [==============================] - 0s 110us/sample - loss: 0.1723 - accuracy: 0.9528 - val_loss: 0.1797 - val_accuracy: 0.9734\n",
      "Epoch 64/100\n",
      "381/381 [==============================] - 0s 102us/sample - loss: 0.1704 - accuracy: 0.9554 - val_loss: 0.1779 - val_accuracy: 0.9734\n",
      "Epoch 65/100\n",
      "381/381 [==============================] - 0s 102us/sample - loss: 0.1686 - accuracy: 0.9554 - val_loss: 0.1761 - val_accuracy: 0.9734\n",
      "Epoch 66/100\n",
      "381/381 [==============================] - 0s 97us/sample - loss: 0.1670 - accuracy: 0.9554 - val_loss: 0.1745 - val_accuracy: 0.9734\n",
      "Epoch 67/100\n",
      "381/381 [==============================] - 0s 94us/sample - loss: 0.1653 - accuracy: 0.9554 - val_loss: 0.1730 - val_accuracy: 0.9734\n",
      "Epoch 68/100\n",
      "381/381 [==============================] - 0s 97us/sample - loss: 0.1636 - accuracy: 0.9554 - val_loss: 0.1713 - val_accuracy: 0.9734\n",
      "Epoch 69/100\n",
      "381/381 [==============================] - 0s 99us/sample - loss: 0.1621 - accuracy: 0.9554 - val_loss: 0.1697 - val_accuracy: 0.9734\n",
      "Epoch 70/100\n",
      "381/381 [==============================] - 0s 97us/sample - loss: 0.1605 - accuracy: 0.9554 - val_loss: 0.1683 - val_accuracy: 0.9734\n",
      "Epoch 71/100\n",
      "381/381 [==============================] - 0s 99us/sample - loss: 0.1590 - accuracy: 0.9580 - val_loss: 0.1669 - val_accuracy: 0.9734\n",
      "Epoch 72/100\n",
      "381/381 [==============================] - 0s 97us/sample - loss: 0.1577 - accuracy: 0.9580 - val_loss: 0.1656 - val_accuracy: 0.9734\n",
      "Epoch 73/100\n",
      "381/381 [==============================] - 0s 97us/sample - loss: 0.1562 - accuracy: 0.9580 - val_loss: 0.1641 - val_accuracy: 0.9734\n",
      "Epoch 74/100\n",
      "381/381 [==============================] - 0s 94us/sample - loss: 0.1548 - accuracy: 0.9580 - val_loss: 0.1628 - val_accuracy: 0.9734\n",
      "Epoch 75/100\n",
      "381/381 [==============================] - 0s 94us/sample - loss: 0.1535 - accuracy: 0.9580 - val_loss: 0.1614 - val_accuracy: 0.9734\n",
      "Epoch 76/100\n",
      "381/381 [==============================] - 0s 94us/sample - loss: 0.1522 - accuracy: 0.9580 - val_loss: 0.1602 - val_accuracy: 0.9734\n",
      "Epoch 77/100\n",
      "381/381 [==============================] - 0s 94us/sample - loss: 0.1510 - accuracy: 0.9580 - val_loss: 0.1589 - val_accuracy: 0.9734\n",
      "Epoch 78/100\n",
      "381/381 [==============================] - 0s 94us/sample - loss: 0.1497 - accuracy: 0.9580 - val_loss: 0.1577 - val_accuracy: 0.9734\n",
      "Epoch 79/100\n",
      "381/381 [==============================] - 0s 92us/sample - loss: 0.1485 - accuracy: 0.9580 - val_loss: 0.1566 - val_accuracy: 0.9681\n",
      "Epoch 80/100\n",
      "381/381 [==============================] - 0s 94us/sample - loss: 0.1473 - accuracy: 0.9580 - val_loss: 0.1554 - val_accuracy: 0.9734\n",
      "Epoch 81/100\n",
      "381/381 [==============================] - 0s 99us/sample - loss: 0.1462 - accuracy: 0.9580 - val_loss: 0.1542 - val_accuracy: 0.9734\n",
      "Epoch 82/100\n",
      "381/381 [==============================] - 0s 102us/sample - loss: 0.1450 - accuracy: 0.9606 - val_loss: 0.1531 - val_accuracy: 0.9734\n",
      "Epoch 83/100\n",
      "381/381 [==============================] - 0s 99us/sample - loss: 0.1440 - accuracy: 0.9606 - val_loss: 0.1520 - val_accuracy: 0.9734\n",
      "Epoch 84/100\n",
      "381/381 [==============================] - 0s 97us/sample - loss: 0.1429 - accuracy: 0.9606 - val_loss: 0.1510 - val_accuracy: 0.9734\n",
      "Epoch 85/100\n",
      "381/381 [==============================] - 0s 102us/sample - loss: 0.1419 - accuracy: 0.9606 - val_loss: 0.1499 - val_accuracy: 0.9734\n",
      "Epoch 86/100\n",
      "381/381 [==============================] - 0s 99us/sample - loss: 0.1408 - accuracy: 0.9606 - val_loss: 0.1490 - val_accuracy: 0.9734\n",
      "Epoch 87/100\n",
      "381/381 [==============================] - 0s 99us/sample - loss: 0.1399 - accuracy: 0.9606 - val_loss: 0.1479 - val_accuracy: 0.9734\n",
      "Epoch 88/100\n",
      "381/381 [==============================] - 0s 99us/sample - loss: 0.1389 - accuracy: 0.9606 - val_loss: 0.1469 - val_accuracy: 0.9734\n",
      "Epoch 89/100\n",
      "381/381 [==============================] - 0s 99us/sample - loss: 0.1379 - accuracy: 0.9633 - val_loss: 0.1460 - val_accuracy: 0.9734\n",
      "Epoch 90/100\n",
      "381/381 [==============================] - 0s 99us/sample - loss: 0.1370 - accuracy: 0.9633 - val_loss: 0.1452 - val_accuracy: 0.9734\n",
      "Epoch 91/100\n",
      "381/381 [==============================] - 0s 107us/sample - loss: 0.1361 - accuracy: 0.9633 - val_loss: 0.1443 - val_accuracy: 0.9734\n",
      "Epoch 92/100\n",
      "381/381 [==============================] - 0s 102us/sample - loss: 0.1352 - accuracy: 0.9659 - val_loss: 0.1434 - val_accuracy: 0.9734\n",
      "Epoch 93/100\n",
      "381/381 [==============================] - 0s 99us/sample - loss: 0.1343 - accuracy: 0.9659 - val_loss: 0.1425 - val_accuracy: 0.9734\n",
      "Epoch 94/100\n",
      "381/381 [==============================] - 0s 97us/sample - loss: 0.1334 - accuracy: 0.9659 - val_loss: 0.1417 - val_accuracy: 0.9734\n",
      "Epoch 95/100\n",
      "381/381 [==============================] - 0s 102us/sample - loss: 0.1326 - accuracy: 0.9659 - val_loss: 0.1408 - val_accuracy: 0.9734\n",
      "Epoch 96/100\n",
      "381/381 [==============================] - 0s 99us/sample - loss: 0.1318 - accuracy: 0.9659 - val_loss: 0.1400 - val_accuracy: 0.9734\n",
      "Epoch 97/100\n",
      "381/381 [==============================] - 0s 97us/sample - loss: 0.1310 - accuracy: 0.9659 - val_loss: 0.1392 - val_accuracy: 0.9734\n",
      "Epoch 98/100\n",
      "381/381 [==============================] - 0s 97us/sample - loss: 0.1302 - accuracy: 0.9659 - val_loss: 0.1384 - val_accuracy: 0.9734\n",
      "Epoch 99/100\n",
      "381/381 [==============================] - 0s 97us/sample - loss: 0.1294 - accuracy: 0.9659 - val_loss: 0.1375 - val_accuracy: 0.9734\n",
      "Epoch 100/100\n",
      "381/381 [==============================] - 0s 99us/sample - loss: 0.1287 - accuracy: 0.9659 - val_loss: 0.1368 - val_accuracy: 0.9734\n"
     ]
    }
   ],
   "source": [
    "model = tf.keras.models.Sequential([\n",
    "    tf.keras.layers.Input(shape=(D,)),\n",
    "    tf.keras.layers.Dense(1, activation='sigmoid')\n",
    "])\n",
    "\n",
    "model.compile(optimizer='adam', loss='binary_crossentropy', metrics=['accuracy'])\n",
    "\n",
    "r = model.fit(X_train, y_train, validation_data=(X_test, y_test), epochs = 100)\n",
    "\n",
    "model.save('cancer_classifier.h5')"
   ]
  },
  {
   "cell_type": "code",
   "execution_count": 28,
   "metadata": {},
   "outputs": [
    {
     "name": "stdout",
     "output_type": "stream",
     "text": [
      "381/381 [==============================] - 0s 89us/sample - loss: 0.1151 - accuracy: 0.9711\n"
     ]
    },
    {
     "data": {
      "text/plain": [
       "[0.11505182627148515, 0.9711286]"
      ]
     },
     "execution_count": 28,
     "metadata": {},
     "output_type": "execute_result"
    }
   ],
   "source": [
    "model.evaluate(X_train, y_train)"
   ]
  },
  {
   "cell_type": "code",
   "execution_count": 29,
   "metadata": {},
   "outputs": [
    {
     "name": "stdout",
     "output_type": "stream",
     "text": [
      "188/188 [==============================] - 0s 79us/sample - loss: 0.1246 - accuracy: 0.9787\n"
     ]
    },
    {
     "data": {
      "text/plain": [
       "[0.12457181877912359, 0.9787234]"
      ]
     },
     "execution_count": 29,
     "metadata": {},
     "output_type": "execute_result"
    }
   ],
   "source": [
    "model.evaluate(X_test, y_test)"
   ]
  },
  {
   "cell_type": "code",
   "execution_count": 31,
   "metadata": {},
   "outputs": [
    {
     "data": {
      "text/plain": [
       "[<matplotlib.lines.Line2D at 0x1ad671b2f08>]"
      ]
     },
     "execution_count": 31,
     "metadata": {},
     "output_type": "execute_result"
    },
    {
     "data": {
      "image/png": "[encoded data removed]",
      "text/plain": [
       "<Figure size 432x288 with 1 Axes>"
      ]
     },
     "metadata": {
      "needs_background": "light"
     },
     "output_type": "display_data"
    }
   ],
   "source": [
    "import matplotlib.pyplot as plt\n",
    "\n",
    "plt.plot(r.history['loss'], label='loss')\n",
    "plt.plot(r.history['val_loss'], label='loss')"
   ]
  },
  {
   "cell_type": "code",
   "execution_count": 32,
   "metadata": {},
   "outputs": [
    {
     "data": {
      "text/plain": [
       "[<matplotlib.lines.Line2D at 0x1ad5aa9a708>]"
      ]
     },
     "execution_count": 32,
     "metadata": {},
     "output_type": "execute_result"
    },
    {
     "data": {
      "image/png": "[encoded data removed]",
      "text/plain": [
       "<Figure size 432x288 with 1 Axes>"
      ]
     },
     "metadata": {
      "needs_background": "light"
     },
     "output_type": "display_data"
    }
   ],
   "source": [
    "plt.plot(r.history['accuracy'], label='loss')\n",
    "plt.plot(r.history['val_accuracy'], label='loss')"
   ]
  },
  {
   "cell_type": "code",
   "execution_count": 34,
   "metadata": {},
   "outputs": [
    {
     "name": "stderr",
     "output_type": "stream",
     "text": [
      "'ls' is not recognized as an internal or external command,\n",
      "operable program or batch file.\n"
     ]
    }
   ],
   "source": [
    "!ls"
   ]
  },
  {
   "cell_type": "code",
   "execution_count": null,
   "metadata": {},
   "outputs": [],
   "source": []
  }
 ],
 "metadata": {
  "kernelspec": {
   "display_name": "Python 3",
   "language": "python",
   "name": "python3"
  },
  "language_info": {
   "codemirror_mode": {
    "name": "ipython",
    "version": 3
   },
   "file_extension": ".py",
   "mimetype": "text/x-python",
   "name": "python",
   "nbconvert_exporter": "python",
   "pygments_lexer": "ipython3",
   "version": "3.7.7"
  }
 },
 "nbformat": 4,
 "nbformat_minor": 4
}
