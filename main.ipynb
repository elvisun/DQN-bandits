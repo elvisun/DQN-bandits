{
 "cells": [
  {
   "cell_type": "code",
   "execution_count": 361,
   "metadata": {},
   "outputs": [],
   "source": [
    "import tensorflow.compat.v1 as tf\n",
    "import pandas as pd\n",
    "import matplotlib.pyplot as plt\n",
    "from tensorflow.keras.utils import to_categorical\n",
    "from tensorflow.keras.models import Sequential, Model\n",
    "from tensorflow.keras.layers import Dense, Activation, concatenate, Input, Embedding\n",
    "from tensorflow.keras.layers import Reshape, Concatenate, BatchNormalization, Dropout\n",
    "from tensorflow.keras.utils import plot_model\n",
    "import tensorflow.keras.backend as K\n",
    "import numpy as np\n",
    "from sklearn.preprocessing import StandardScaler\n",
    "\n",
    "%matplotlib inline"
   ]
  },
  {
   "cell_type": "code",
   "execution_count": 362,
   "metadata": {},
   "outputs": [],
   "source": [
    "def one_hot(df, cols):\n",
    "  \"\"\"Returns one-hot encoding of DataFrame df including columns in cols.\"\"\"\n",
    "  for col in cols:\n",
    "    dummies = pd.get_dummies(df[col], prefix=col, drop_first=False)\n",
    "    df = pd.concat([df, dummies], axis=1)\n",
    "    df = df.drop(col, axis=1)\n",
    "  return df\n"
   ]
  },
  {
   "cell_type": "markdown",
   "metadata": {},
   "source": [
    "## Load data"
   ]
  },
  {
   "cell_type": "code",
   "execution_count": 363,
   "metadata": {},
   "outputs": [],
   "source": [
    "df = pd.read_csv('data/adult.data')\n",
    "df.columns = ['age', 'workclass', 'weight', 'education', 'education-num', 'marital-status', 'occupation', 'relationship', 'race', 'sex', 'capital-gain', 'capital-loss', 'hours-per-week', 'native-country', 'income']\n",
    "\n",
    "elvis = [25, 'Private', 27821, 'Bachelors', 17, 'Married-civ-spouse', 'Other-service', 'Husband', 'Asian-Pac-Islander', 'Male', 1000, 2000, 40, 'China', '<=50K']\n",
    "\n",
    "#Shuffle\n",
    "df = df.sample(frac=1)\n",
    "\n",
    "# Add our test data\n",
    "df = df.append(pd.Series(elvis, index=df.columns ), ignore_index=True)\n",
    "\n",
    "elvis_df = df.iloc[-1]\n",
    "\n"
   ]
  },
  {
   "cell_type": "code",
   "execution_count": 364,
   "metadata": {},
   "outputs": [],
   "source": [
    "# Remove occupation from df as it's our label, then create a mapping of labels\n",
    "actions = df['occupation'].astype('category').cat.codes #.to_numpy()\n",
    "action_space = df['occupation'].astype('category').cat.categories\n",
    "actions_mapping = dict(enumerate(df['occupation'].astype('category').cat.categories))\n",
    "\n",
    "df = df.drop(['occupation'], axis = 1)\n",
    "df = one_hot(df, ['workclass', 'education', 'marital-status', 'relationship', 'race', 'sex', 'native-country', 'income'])\n",
    "\n",
    "# Setup rewards and drop income column\n",
    "rewards = df['income_ >50K']\n",
    "df = df.drop(['income_ >50K', 'income_ <=50K'], axis = 1)"
   ]
  },
  {
   "cell_type": "code",
   "execution_count": 365,
   "metadata": {},
   "outputs": [],
   "source": [
    "## scikit-learn scaler object to scale the states\n",
    "scaler = StandardScaler()\n",
    "scaler.fit(df)\n",
    "df = scaler.transform(df)"
   ]
  },
  {
   "cell_type": "markdown",
   "metadata": {},
   "source": [
    "## Trian test split"
   ]
  },
  {
   "cell_type": "code",
   "execution_count": 366,
   "metadata": {},
   "outputs": [
    {
     "name": "stdout",
     "output_type": "stream",
     "text": [
      "total data size: (32561, 101)\n",
      "training data size: (21706, 101)\n",
      "test data size: (10855, 101)\n"
     ]
    }
   ],
   "source": [
    "n_data, state_size = df.shape\n",
    "n_train = n_data // 3 * 2\n",
    "train_data = df[:n_train]\n",
    "test_data = df[n_train:]\n",
    "\n",
    "print(\"total data size: {}\".format(df.shape))\n",
    "print(\"training data size: {}\".format(train_data.shape))\n",
    "print(\"test data size: {}\".format(test_data.shape))"
   ]
  },
  {
   "cell_type": "markdown",
   "metadata": {},
   "source": [
    "### Defining our neural network used by the agent"
   ]
  },
  {
   "cell_type": "code",
   "execution_count": 367,
   "metadata": {},
   "outputs": [],
   "source": [
    "def build_model(state_size, action_size):\n",
    "    # shared layer\n",
    "    model = Sequential([\n",
    "        Input(shape=(state_size,)),\n",
    "        Dense(64, activation='relu'),\n",
    "        Dense(32, activation='relu'),\n",
    "        Dense(action_size, activation='relu')])\n",
    "    \n",
    "    # compiling\n",
    "    model.compile(loss='mse', optimizer='adam')\n",
    "    \n",
    "    # returning the model\n",
    "    return model\n"
   ]
  },
  {
   "cell_type": "markdown",
   "metadata": {},
   "source": [
    "## Define agent\n",
    "\n",
    "Here the contextual bandit problem is a simplified version of a full RL problem, where the beginning state is the previous state of a terminal state. Therefore we can simplify the following Bellman's equation\n",
    "![alt text](https://miro.medium.com/max/5032/1*CiDCpUjj_3mGm3vdGrxu4g.png)\n",
    "\n",
    "into just \n",
    "```\n",
    "V(s)=max(R(s,a))\n",
    "```\n",
    "as terminal states have value of 0\n",
    "\n"
   ]
  },
  {
   "cell_type": "code",
   "execution_count": 397,
   "metadata": {},
   "outputs": [],
   "source": [
    "class DQNAgent:\n",
    "    def __init__(self, state_size, action_size):\n",
    "        self.state_size = state_size\n",
    "        self.action_size = action_size\n",
    "        self.model = build_model(state_size, action_size)\n",
    "        self.loss = []\n",
    "    \n",
    "    def act(self, state):\n",
    "        act_values = self.model.predict(state)\n",
    "        return np.argmax(act_values[0])  # returns action\n",
    "    \n",
    "    def learn(self, states, actions, rewards):\n",
    "        # Calculate the tentative target: Q(s',a)\n",
    "        target = rewards\n",
    "\n",
    "        # With the Keras API, the target (usually) must have the same\n",
    "        # shape as the predictions.\n",
    "        # However, we only need to update the network for the actions\n",
    "        # which were actually taken.\n",
    "        # We can accomplish this by setting the target to be equal to\n",
    "        # the prediction for all values.\n",
    "        # Then, only change the targets for the actions taken.\n",
    "        # Q(s,a)\n",
    "        target_full = self.model.predict(states)\n",
    "        target_full[np.arange(states.shape[0]), actions] = target\n",
    "\n",
    "        # Run one training step\n",
    "        res = self.model.train_on_batch(states, target_full)\n",
    "        self.loss.append(res)\n",
    "\n",
    "    def load(self, name):\n",
    "        self.model.load_weights(name)\n",
    "\n",
    "    def save(self, name):\n",
    "        self.model.save_weights(name)"
   ]
  },
  {
   "cell_type": "code",
   "execution_count": 403,
   "metadata": {},
   "outputs": [
    {
     "name": "stdout",
     "output_type": "stream",
     "text": [
      "(21706, 101)\n",
      "(32561,)\n",
      "(32561,)\n",
      "training 50/339\n",
      "training 100/339\n",
      "training 150/339\n",
      "training 200/339\n",
      "training 250/339\n",
      "training 300/339\n"
     ]
    },
    {
     "data": {
      "text/plain": [
       "Text(0, 0.5, 'Loss (mse)')"
      ]
     },
     "execution_count": 403,
     "metadata": {},
     "output_type": "execute_result"
    },
    {
     "data": {
      "image/png": "[encoded data removed]",
      "text/plain": [
       "<Figure size 432x288 with 1 Axes>"
      ]
     },
     "metadata": {
      "needs_background": "light"
     },
     "output_type": "display_data"
    }
   ],
   "source": [
    "agent = DQNAgent(state_size, action_space.shape[0])\n",
    "\n",
    "print(train_data.shape)\n",
    "print(actions.shape)\n",
    "print(rewards.shape)\n",
    "\n",
    "# print(rewards[:10].toNumpy())\n",
    "BATCH_SIZE = 64\n",
    "for i in range(1, n_train//BATCH_SIZE):\n",
    "    if(i%50 == 0):\n",
    "        print(\"training {}/{}\".format(i, n_train // BATCH_SIZE))\n",
    "        \n",
    "    agent.learn(train_data[(i - 1) * BATCH_SIZE : BATCH_SIZE * i], \n",
    "                actions[(i - 1) * BATCH_SIZE : BATCH_SIZE * i], \n",
    "                rewards[(i - 1) * BATCH_SIZE : BATCH_SIZE * i])\n",
    "\n",
    "    \n",
    "plt.plot(agent.loss)\n",
    "plt.title(\"Loss\")\n",
    "plt.xlabel(\"epochs\")\n",
    "plt.ylabel(\"Loss (mse)\")"
   ]
  },
  {
   "cell_type": "code",
   "execution_count": 404,
   "metadata": {},
   "outputs": [
    {
     "name": "stdout",
     "output_type": "stream",
     "text": [
      "age                               25\n",
      "workclass                    Private\n",
      "weight                         27821\n",
      "education                  Bachelors\n",
      "education-num                     17\n",
      "marital-status    Married-civ-spouse\n",
      "occupation             Other-service\n",
      "relationship                 Husband\n",
      "race              Asian-Pac-Islander\n",
      "sex                             Male\n",
      "capital-gain                    1000\n",
      "capital-loss                    2000\n",
      "hours-per-week                    40\n",
      "native-country                 China\n",
      "income                         <=50K\n",
      "Name: 32560, dtype: object\n"
     ]
    }
   ],
   "source": [
    "print(elvis_df)"
   ]
  },
  {
   "cell_type": "code",
   "execution_count": 408,
   "metadata": {},
   "outputs": [
    {
     "name": "stdout",
     "output_type": "stream",
     "text": [
      "This is the agent's recommendation:\n",
      " Exec-managerial\n"
     ]
    }
   ],
   "source": [
    "act_values = agent.model.predict(df[-2:-1])\n",
    "print(\"This is the agent's recommendation:\")\n",
    "print(action_space[np.argmax(act_values)])"
   ]
  },
  {
   "cell_type": "code",
   "execution_count": 391,
   "metadata": {},
   "outputs": [
    {
     "name": "stdout",
     "output_type": "stream",
     "text": [
      "[[0.         0.         0.20960677 0.01630005 0.         0.07403892\n",
      "  0.         0.         0.         0.06116757 0.02084612 0.\n",
      "  0.         0.15443206 0.31636682 0.        ]]\n",
      " Transport-moving\n"
     ]
    }
   ],
   "source": [
    "## Compare with baseline algorithm"
   ]
  }
 ],
 "metadata": {
  "kernelspec": {
   "display_name": "Python 3",
   "language": "python",
   "name": "python3"
  },
  "language_info": {
   "codemirror_mode": {
    "name": "ipython",
    "version": 3
   },
   "file_extension": ".py",
   "mimetype": "text/x-python",
   "name": "python",
   "nbconvert_exporter": "python",
   "pygments_lexer": "ipython3",
   "version": "3.7.7"
  }
 },
 "nbformat": 4,
 "nbformat_minor": 4
}
